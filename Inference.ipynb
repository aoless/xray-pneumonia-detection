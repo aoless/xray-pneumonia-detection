{
 "cells": [
  {
   "cell_type": "code",
   "execution_count": 22,
   "metadata": {},
   "outputs": [],
   "source": [
    "import numpy as np\n",
    "import pandas as pd\n",
    "import pydicom\n",
    "%matplotlib inline\n",
    "import matplotlib.pyplot as plt\n",
    "\n",
    "import json\n",
    "from skimage.transform import resize\n",
    "import tensorflow as tf\n",
    "from tensorflow.keras.applications.vgg19 import preprocess_input\n",
    "from tensorflow.keras.preprocessing.image import ImageDataGenerator"
   ]
  },
  {
   "cell_type": "code",
   "execution_count": 29,
   "metadata": {},
   "outputs": [],
   "source": [
    "# This function reads in a .dcm file, checks the important fields for our device, and returns a numpy array\n",
    "# of just the imaging data\n",
    "\n",
    "img_generator = ImageDataGenerator(\n",
    "    rescale=1./255.,\n",
    "    samplewise_center=True,\n",
    "    samplewise_std_normalization=True,\n",
    "    preprocessing_function=preprocess_input\n",
    ")\n",
    "\n",
    "def check_dicom(filename):\n",
    "    print('Load file {} ...'.format(filename))\n",
    "    ds = pydicom.dcmread(filename)       \n",
    "    img = ds.pixel_array\n",
    "    return img\n",
    "\n",
    "    \n",
    "# This function takes the numpy array output by check_dicom and \n",
    "# runs the appropriate pre-processing needed for our model input\n",
    "def preprocess_image(img, img_size):\n",
    "    \n",
    "    #proc_img = normalize_meanstd(img)\n",
    "    proc_img = img_generator.apply_transform(img, {})\n",
    "    proc_img = resize(proc_img, img_size)\n",
    "    \n",
    "    return proc_img\n",
    "\n",
    "# This function loads in our trained model w/ weights and compiles it \n",
    "def load_model(model_path, weight_path):\n",
    "    \n",
    "    with open('my_model.json') as json_file:\n",
    "        my_model = json.load(json_file)\n",
    "        \n",
    "    loaded_model = tf.keras.models.model_from_json(my_model)\n",
    "    loaded_model.load_weights(weight_path)\n",
    "    \n",
    "    return loaded_model\n",
    "\n",
    "# This function uses our device's threshold parameters to predict whether or not\n",
    "# the image shows the presence of pneumonia using our trained model\n",
    "def predict_image(model, img, threshold): \n",
    "    prediction = model.predict(img)\n",
    "    print(prediction[0][0])\n",
    "    \n",
    "    if prediction[0][0] >= threshold:\n",
    "        return \"Pneumonia\"\n",
    "    return \"No pneumonia\""
   ]
  },
  {
   "cell_type": "code",
   "execution_count": 30,
   "metadata": {},
   "outputs": [
    {
     "name": "stdout",
     "output_type": "stream",
     "text": [
      "Load file test1.dcm ...\n",
      "0.61092764\n",
      "Pneumonia\n",
      "Load file test2.dcm ...\n",
      "0.5635268\n",
      "No pneumonia\n",
      "Load file test3.dcm ...\n",
      "0.55672526\n",
      "No pneumonia\n",
      "Load file test4.dcm ...\n",
      "0.61092764\n",
      "Pneumonia\n",
      "Load file test5.dcm ...\n",
      "0.61092764\n",
      "Pneumonia\n",
      "Load file test6.dcm ...\n",
      "0.61092764\n",
      "Pneumonia\n"
     ]
    }
   ],
   "source": [
    "test_dicoms = ['test1.dcm','test2.dcm','test3.dcm','test4.dcm','test5.dcm','test6.dcm']\n",
    "\n",
    "model_path = \"./models/my_model.h5\"\n",
    "weight_path = \"xray_class_my_model.best.hdf5\"\n",
    "\n",
    "IMG_SIZE=(1,224,224,3) # Might be different depending on used architecture\n",
    "\n",
    "my_model = load_model(model_path, weight_path)\n",
    "\n",
    "for i in test_dicoms:\n",
    "    \n",
    "    img = np.array([])\n",
    "    img = check_dicom(i)\n",
    "    \n",
    "    if img is None:\n",
    "        continue\n",
    "        \n",
    "    img_proc = preprocess_image(img, IMG_SIZE)\n",
    "    pred = predict_image(my_model, img_proc, 0.6)\n",
    "    print(pred)"
   ]
  },
  {
   "cell_type": "code",
   "execution_count": null,
   "metadata": {},
   "outputs": [],
   "source": []
  }
 ],
 "metadata": {
  "kernelspec": {
   "display_name": "Python 3",
   "language": "python",
   "name": "python3"
  },
  "language_info": {
   "codemirror_mode": {
    "name": "ipython",
    "version": 3
   },
   "file_extension": ".py",
   "mimetype": "text/x-python",
   "name": "python",
   "nbconvert_exporter": "python",
   "pygments_lexer": "ipython3",
   "version": "3.7.6"
  }
 },
 "nbformat": 4,
 "nbformat_minor": 2
}